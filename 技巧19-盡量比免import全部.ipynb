{
 "cells": [
  {
   "cell_type": "code",
   "execution_count": 1,
   "metadata": {},
   "outputs": [],
   "source": [
    "import sys\n",
    "from os import path\n",
    "import statistics as stats\n",
    "from statistics import median, mean, mode"
   ]
  },
  {
   "cell_type": "code",
   "execution_count": 6,
   "metadata": {},
   "outputs": [],
   "source": [
    "test_list = [1, 1, 1, 5, 8, 9, 50]"
   ]
  },
  {
   "cell_type": "code",
   "execution_count": 20,
   "metadata": {},
   "outputs": [
    {
     "name": "stdout",
     "output_type": "stream",
     "text": [
      "5\n",
      "10.714285714285714\n",
      "1\n"
     ]
    }
   ],
   "source": [
    "print(median(test_list))\n",
    "print(mean(test_list))\n",
    "print(mode(test_list))"
   ]
  },
  {
   "cell_type": "code",
   "execution_count": 22,
   "metadata": {},
   "outputs": [],
   "source": [
    "import sys\n",
    "from os import path\n",
    "from my_mode import mode\n",
    "# my_mode\n",
    "# def mode(*args):\n",
    "#     print('this is my own mode')\n",
    "\n",
    "# 竟量避免使用 import *\n",
    "from statistics import *"
   ]
  },
  {
   "cell_type": "code",
   "execution_count": 23,
   "metadata": {},
   "outputs": [
    {
     "name": "stdout",
     "output_type": "stream",
     "text": [
      "5\n",
      "10.714285714285714\n",
      "1\n"
     ]
    }
   ],
   "source": [
    "\"\"\" import * 使用上會有風險\n",
    "    會蓋掉之前import的同名module\n",
    "\"\"\"\n",
    "print(median(test_list))\n",
    "print(mean(test_list))\n",
    "print(mode(test_list))"
   ]
  },
  {
   "cell_type": "code",
   "execution_count": null,
   "metadata": {},
   "outputs": [],
   "source": []
  }
 ],
 "metadata": {
  "kernelspec": {
   "display_name": "Python 3",
   "language": "python",
   "name": "python3"
  },
  "language_info": {
   "codemirror_mode": {
    "name": "ipython",
    "version": 3
   },
   "file_extension": ".py",
   "mimetype": "text/x-python",
   "name": "python",
   "nbconvert_exporter": "python",
   "pygments_lexer": "ipython3",
   "version": "3.7.2"
  }
 },
 "nbformat": 4,
 "nbformat_minor": 2
}
