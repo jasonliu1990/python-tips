{
 "cells": [
  {
   "cell_type": "code",
   "execution_count": 1,
   "metadata": {},
   "outputs": [
    {
     "name": "stdout",
     "output_type": "stream",
     "text": [
      "The Zen of Python, by Tim Peters\n",
      "\n",
      "Beautiful is better than ugly.\n",
      "Explicit is better than implicit.\n",
      "Simple is better than complex.\n",
      "Complex is better than complicated.\n",
      "Flat is better than nested.\n",
      "Sparse is better than dense.\n",
      "Readability counts.\n",
      "Special cases aren't special enough to break the rules.\n",
      "Although practicality beats purity.\n",
      "Errors should never pass silently.\n",
      "Unless explicitly silenced.\n",
      "In the face of ambiguity, refuse the temptation to guess.\n",
      "There should be one-- and preferably only one --obvious way to do it.\n",
      "Although that way may not be obvious at first unless you're Dutch.\n",
      "Now is better than never.\n",
      "Although never is often better than *right* now.\n",
      "If the implementation is hard to explain, it's a bad idea.\n",
      "If the implementation is easy to explain, it may be a good idea.\n",
      "Namespaces are one honking great idea -- let's do more of those!\n"
     ]
    }
   ],
   "source": [
    "import this"
   ]
  },
  {
   "cell_type": "code",
   "execution_count": 2,
   "metadata": {},
   "outputs": [],
   "source": [
    "\"\"\" 假設一個網路檢查的狀態, \n",
    "    如果 url, dns, user都沒問題時, \n",
    "    才開啟下載\n",
    "\"\"\"\n",
    "class Network:\n",
    "    def is_url_valid(self):\n",
    "        return True\n",
    "    def is_dns_word(self):\n",
    "        return Trun\n",
    "    def is_user_valid(self):\n",
    "        return"
   ]
  },
  {
   "cell_type": "code",
   "execution_count": null,
   "metadata": {},
   "outputs": [],
   "source": [
    "\"\"\" 這樣一層一層的結構就是 nested,\n",
    "    這樣的寫法不易於程式的閱讀, 也不利於維護人員,\n",
    "    所以我們要將這樣的code扁平化, 就是flat    \n",
    "\"\"\"\n",
    "def download_nested():\n",
    "    if Network.is_url_valid():\n",
    "        if Network.is_dns_work():\n",
    "            if Network.is_user_valid():\n",
    "                print('start downloading')\n",
    "            else:\n",
    "                print('user invalid')\n",
    "        else:\n",
    "            print('dns error')\n",
    "    else:\n",
    "        print('url error')"
   ]
  },
  {
   "cell_type": "code",
   "execution_count": null,
   "metadata": {},
   "outputs": [],
   "source": [
    "\"\"\" flat, 扁平化, 更易閱讀\n",
    "\"\"\"\n",
    "def download_nested():\n",
    "    if not Network.is_url_valid():\n",
    "        print('url error')\n",
    "        return\n",
    "    elif not Network.is_dns_work():\n",
    "        print('dns error')\n",
    "        return\n",
    "    elif not Network.is_user_valid():\n",
    "        print('user invalid')\n",
    "        return\n",
    "\n",
    "    print('start downloading')\n",
    "\n",
    "        "
   ]
  }
 ],
 "metadata": {
  "kernelspec": {
   "display_name": "Python 3",
   "language": "python",
   "name": "python3"
  },
  "language_info": {
   "codemirror_mode": {
    "name": "ipython",
    "version": 3
   },
   "file_extension": ".py",
   "mimetype": "text/x-python",
   "name": "python",
   "nbconvert_exporter": "python",
   "pygments_lexer": "ipython3",
   "version": "3.7.0"
  }
 },
 "nbformat": 4,
 "nbformat_minor": 2
}
