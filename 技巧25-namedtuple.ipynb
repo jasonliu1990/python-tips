{
 "cells": [
  {
   "cell_type": "code",
   "execution_count": 1,
   "metadata": {},
   "outputs": [
    {
     "name": "stdout",
     "output_type": "stream",
     "text": [
      "id=1, name=AAA, score=90\n",
      "id=2, name=BBB, score=80\n",
      "id=3, name=CCC, score=70\n"
     ]
    }
   ],
   "source": [
    "students = [\n",
    "    (1, 'AAA', 90),\n",
    "    (2, 'BBB', 80),\n",
    "    (3, 'CCC', 70)\n",
    "]\n",
    "\n",
    "# 可讀性差\n",
    "for s in students:\n",
    "    print(f'id={s[0]}, name={s[1]}, score={s[2]}')"
   ]
  },
  {
   "cell_type": "code",
   "execution_count": 2,
   "metadata": {},
   "outputs": [],
   "source": [
    "import collections"
   ]
  },
  {
   "cell_type": "code",
   "execution_count": 4,
   "metadata": {},
   "outputs": [],
   "source": [
    "Student = collections.namedtuple('Student', 'id, name, score')"
   ]
  },
  {
   "cell_type": "code",
   "execution_count": 5,
   "metadata": {},
   "outputs": [],
   "source": [
    "students = [\n",
    "    Student(1, 'AAA', 90),\n",
    "    Student(2, 'BBB', 80),\n",
    "    Student(3, 'CCC', 70)\n",
    "]"
   ]
  },
  {
   "cell_type": "code",
   "execution_count": 6,
   "metadata": {},
   "outputs": [
    {
     "name": "stdout",
     "output_type": "stream",
     "text": [
      "[Student(id=1, name='AAA', score=90), Student(id=2, name='BBB', score=80), Student(id=3, name='CCC', score=70)]\n"
     ]
    }
   ],
   "source": [
    "print(students)"
   ]
  },
  {
   "cell_type": "code",
   "execution_count": 7,
   "metadata": {},
   "outputs": [
    {
     "name": "stdout",
     "output_type": "stream",
     "text": [
      "id=1, name=AAA, score=90\n",
      "id=2, name=BBB, score=80\n",
      "id=3, name=CCC, score=70\n"
     ]
    }
   ],
   "source": [
    "# 像dict, 但是是tuple\n",
    "for s in students:\n",
    "    print(f'id={s.id}, name={s.name}, score={s.score}')"
   ]
  },
  {
   "cell_type": "code",
   "execution_count": null,
   "metadata": {},
   "outputs": [],
   "source": []
  }
 ],
 "metadata": {
  "kernelspec": {
   "display_name": "Python 3",
   "language": "python",
   "name": "python3"
  },
  "language_info": {
   "codemirror_mode": {
    "name": "ipython",
    "version": 3
   },
   "file_extension": ".py",
   "mimetype": "text/x-python",
   "name": "python",
   "nbconvert_exporter": "python",
   "pygments_lexer": "ipython3",
   "version": "3.7.2"
  }
 },
 "nbformat": 4,
 "nbformat_minor": 2
}
