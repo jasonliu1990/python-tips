{
 "cells": [
  {
   "cell_type": "code",
   "execution_count": 1,
   "metadata": {},
   "outputs": [],
   "source": [
    "import random\n",
    "from enum import Enum"
   ]
  },
  {
   "cell_type": "code",
   "execution_count": 2,
   "metadata": {},
   "outputs": [],
   "source": [
    "class Condition(Enum):\n",
    "    A = 1\n",
    "    B = 2\n",
    "    C = 3\n",
    "    D = 4"
   ]
  },
  {
   "cell_type": "code",
   "execution_count": 6,
   "metadata": {},
   "outputs": [
    {
     "name": "stdout",
     "output_type": "stream",
     "text": [
      "Condition.A\n",
      "go to step one\n"
     ]
    }
   ],
   "source": [
    "\"\"\" 從 1~4中隨機取個數字\n",
    "    再對照符合哪個 condition\n",
    "    最後再返回所想操作的事\n",
    "    \n",
    "    情況 1\n",
    "\"\"\"\n",
    "values = [1, 2, 3, 4]\n",
    "choice = Condition(random.choice(values))\n",
    "if choice == Condition.A or choice == Condition.B or choice == Condition.C:\n",
    "    print(choice)\n",
    "    print('go to step one')\n",
    "if choice == Condition.D:\n",
    "    print(choice)\n",
    "    print('go to step two')\n",
    "    "
   ]
  },
  {
   "cell_type": "code",
   "execution_count": 8,
   "metadata": {},
   "outputs": [
    {
     "name": "stdout",
     "output_type": "stream",
     "text": [
      "Condition.B\n",
      "go to step one\n"
     ]
    }
   ],
   "source": [
    "\"\"\" 優化 1\n",
    "    簡單改寫, 將第二個 if換成 else\n",
    "\"\"\"\n",
    "values = [1, 2, 3, 4]\n",
    "choice = Condition(random.choice(values))\n",
    "if choice == Condition.A or choice == Condition.B or choice == Condition.C:\n",
    "    print(choice)\n",
    "    print('go to step one')\n",
    "else:\n",
    "    print(choice)\n",
    "    print('go to step two')"
   ]
  },
  {
   "cell_type": "code",
   "execution_count": 9,
   "metadata": {},
   "outputs": [
    {
     "name": "stdout",
     "output_type": "stream",
     "text": [
      "Condition.B\n",
      "go to step one\n"
     ]
    }
   ],
   "source": [
    "\"\"\" 優化 2\n",
    "    先去判斷條件少的, 其他的情況就為 else\n",
    "    即簡單的判斷放在 if,\n",
    "    複雜的給 else\n",
    "\"\"\"\n",
    "values = [1, 2, 3, 4]\n",
    "choice = Condition(random.choice(values))\n",
    "if choice == Condition.D:\n",
    "    print(choice)\n",
    "    print('go to step two')\n",
    "else:\n",
    "    print(choice)\n",
    "    print('go to step one')"
   ]
  },
  {
   "cell_type": "code",
   "execution_count": 14,
   "metadata": {},
   "outputs": [
    {
     "name": "stdout",
     "output_type": "stream",
     "text": [
      "Condition.A\n",
      "go to step one\n"
     ]
    }
   ],
   "source": [
    "\"\"\" 情況 2\n",
    "\"\"\"\n",
    "values = [1, 2, 3, 4]\n",
    "choice = Condition(random.choice(values))\n",
    "if choice == Condition.A or choice == Condition.B:\n",
    "    print(choice)\n",
    "    print('go to step one')\n",
    "else:\n",
    "    print(choice)\n",
    "    print('go to step two')"
   ]
  },
  {
   "cell_type": "code",
   "execution_count": 11,
   "metadata": {},
   "outputs": [
    {
     "name": "stdout",
     "output_type": "stream",
     "text": [
      "Condition.C\n",
      "go to step two\n"
     ]
    }
   ],
   "source": [
    "\"\"\" 優化 1-1\n",
    "    用一個 list把條件裝起來\n",
    "    直接用 in來判斷\n",
    "\"\"\"\n",
    "values = [1, 2, 3, 4]\n",
    "choice = Condition(random.choice(values))\n",
    "option = [Condition.A, Condition.B]\n",
    "if choice in option:\n",
    "    print(choice)\n",
    "    print('go to step one')\n",
    "else:\n",
    "    print(choice)\n",
    "    print('go to step two')"
   ]
  },
  {
   "cell_type": "code",
   "execution_count": 12,
   "metadata": {},
   "outputs": [
    {
     "name": "stdout",
     "output_type": "stream",
     "text": [
      "Condition.A\n",
      "go to step one\n"
     ]
    }
   ],
   "source": [
    "\"\"\" 優化 1-2\n",
    "    用一個set把條件裝起來\n",
    "    直接用 in來判斷\n",
    "    \n",
    "    執行效率:\n",
    "    list > set > 直接判斷\n",
    "\"\"\"\n",
    "values = [1, 2, 3, 4]\n",
    "choice = Condition(random.choice(values))\n",
    "option = {Condition.A, Condition.B}\n",
    "if choice in option:\n",
    "    print(choice)\n",
    "    print('go to step one')\n",
    "else:\n",
    "    print(choice)\n",
    "    print('go to step two')"
   ]
  },
  {
   "cell_type": "markdown",
   "metadata": {},
   "source": [
    "### 小結\n",
    "1. 將簡單的判斷放在if, 複雜的給else\n",
    "2. 當有多種條件時, 用list裝起來增加執行效率與程式易讀性"
   ]
  }
 ],
 "metadata": {
  "kernelspec": {
   "display_name": "Python 3",
   "language": "python",
   "name": "python3"
  },
  "language_info": {
   "codemirror_mode": {
    "name": "ipython",
    "version": 3
   },
   "file_extension": ".py",
   "mimetype": "text/x-python",
   "name": "python",
   "nbconvert_exporter": "python",
   "pygments_lexer": "ipython3",
   "version": "3.7.0"
  }
 },
 "nbformat": 4,
 "nbformat_minor": 2
}
