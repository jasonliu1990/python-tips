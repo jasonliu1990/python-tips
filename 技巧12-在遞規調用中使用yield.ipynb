{
 "cells": [
  {
   "cell_type": "code",
   "execution_count": 1,
   "metadata": {},
   "outputs": [],
   "source": [
    "import os\n",
    "\n",
    "\"\"\" 想要找出tmp目錄下所有的文件\n",
    "\"\"\"\n",
    "path = '/users/jason/documents/tmp'"
   ]
  },
  {
   "cell_type": "code",
   "execution_count": 2,
   "metadata": {},
   "outputs": [],
   "source": [
    "def get_file(folder_name):\n",
    "    for item in os.listdir(folder_name):\n",
    "        full_path = os.path.join(folder_name, item)\n",
    "        if os.path.isfile(full_path):\n",
    "            yield full_path\n",
    "        elif os.path.isdir(full_path):\n",
    "#             for item in get_file(full_path):\n",
    "#                 yield item\n",
    "            yield from get_file(full_path)        "
   ]
  },
  {
   "cell_type": "code",
   "execution_count": 3,
   "metadata": {},
   "outputs": [
    {
     "name": "stdout",
     "output_type": "stream",
     "text": [
      "/users/jason/documents/tmp\\1.txt\n",
      "/users/jason/documents/tmp\\2.txt\n",
      "/users/jason/documents/tmp\\a\\1.txt\n"
     ]
    }
   ],
   "source": [
    "for file_name in get_file(path):\n",
    "    print(file_name)"
   ]
  },
  {
   "cell_type": "code",
   "execution_count": null,
   "metadata": {},
   "outputs": [],
   "source": []
  }
 ],
 "metadata": {
  "kernelspec": {
   "display_name": "Python 3",
   "language": "python",
   "name": "python3"
  },
  "language_info": {
   "codemirror_mode": {
    "name": "ipython",
    "version": 3
   },
   "file_extension": ".py",
   "mimetype": "text/x-python",
   "name": "python",
   "nbconvert_exporter": "python",
   "pygments_lexer": "ipython3",
   "version": "3.7.0"
  }
 },
 "nbformat": 4,
 "nbformat_minor": 2
}
