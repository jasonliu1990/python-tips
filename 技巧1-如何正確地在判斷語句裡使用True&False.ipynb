{
 "cells": [
  {
   "cell_type": "code",
   "execution_count": 1,
   "metadata": {},
   "outputs": [],
   "source": [
    "\"\"\" 七種 bool為 False的內置數據類型\n",
    "\"\"\"\n",
    "false_values =[\n",
    "    False,\n",
    "    [],\n",
    "    {},\n",
    "    '',\n",
    "    0,\n",
    "    0.0,\n",
    "    None\n",
    "]"
   ]
  },
  {
   "cell_type": "code",
   "execution_count": 2,
   "metadata": {},
   "outputs": [
    {
     "name": "stdout",
     "output_type": "stream",
     "text": [
      "False is False\n",
      "[] is False\n",
      "{} is False\n",
      " is False\n",
      "0 is False\n",
      "0.0 is False\n",
      "None is False\n"
     ]
    }
   ],
   "source": [
    "\"\"\" 寫個迴圈來證明\n",
    "\"\"\"\n",
    "for value in false_values:\n",
    "    print(f'{value} is {bool(value)}')"
   ]
  },
  {
   "cell_type": "code",
   "execution_count": 3,
   "metadata": {},
   "outputs": [],
   "source": [
    "\"\"\" 自定義數據類型\n",
    "\"\"\"\n",
    "class MyType:\n",
    "    def __init__(self):\n",
    "        self.value = []\n",
    "    def add(self, x):\n",
    "        self.value.append(x)\n",
    "    def __bool__(self):\n",
    "        return bool(self.value)"
   ]
  },
  {
   "cell_type": "code",
   "execution_count": 4,
   "metadata": {},
   "outputs": [
    {
     "name": "stdout",
     "output_type": "stream",
     "text": [
      "False\n",
      "True\n"
     ]
    }
   ],
   "source": [
    "my_type = MyType()\n",
    "print(bool(my_type))\n",
    "\n",
    "my_type.add(1)\n",
    "print(bool(my_type))"
   ]
  },
  {
   "cell_type": "code",
   "execution_count": 5,
   "metadata": {},
   "outputs": [
    {
     "name": "stdout",
     "output_type": "stream",
     "text": [
      "a is empty\n",
      "a is empty\n"
     ]
    }
   ],
   "source": [
    "\"\"\" 運用在判斷語句中\n",
    "    如果說要判斷 a 是否為空時\n",
    "\"\"\"\n",
    "a = []\n",
    "\n",
    "if a == []:\n",
    "    print('a is empty')\n",
    "    \n",
    "\"\"\" 不推薦使用上述方法\n",
    "    推薦下面的寫法, \n",
    "    直接判斷 a是 true or false\n",
    "\"\"\"\n",
    "if not a:\n",
    "    print('a is empty')\n",
    "    "
   ]
  },
  {
   "cell_type": "code",
   "execution_count": 6,
   "metadata": {},
   "outputs": [
    {
     "name": "stdout",
     "output_type": "stream",
     "text": [
      "False\n",
      "False\n",
      "False\n",
      "False\n",
      "False\n",
      "False\n",
      "False\n"
     ]
    }
   ],
   "source": [
    "\"\"\" 用判斷式改寫第二行\n",
    "    如果 value為 True 則印True\n",
    "    否則印 False\n",
    "\"\"\"\n",
    "for value in false_values:\n",
    "    # print(f'{value} is {bool(value)}')\n",
    "    print(True if value else False)"
   ]
  }
 ],
 "metadata": {
  "kernelspec": {
   "display_name": "Python 3",
   "language": "python",
   "name": "python3"
  },
  "language_info": {
   "codemirror_mode": {
    "name": "ipython",
    "version": 3
   },
   "file_extension": ".py",
   "mimetype": "text/x-python",
   "name": "python",
   "nbconvert_exporter": "python",
   "pygments_lexer": "ipython3",
   "version": "3.7.0"
  }
 },
 "nbformat": 4,
 "nbformat_minor": 2
}
