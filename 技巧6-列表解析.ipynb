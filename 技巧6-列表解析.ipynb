{
 "cells": [
  {
   "cell_type": "code",
   "execution_count": 1,
   "metadata": {},
   "outputs": [],
   "source": [
    "\"\"\" 情境:\n",
    "    想要從list a裡找出所有的偶數\n",
    "    裝到另個list裡\n",
    "    返回結果: [2,4,6]\n",
    "\"\"\"\n",
    "a = [1,2,3,4,5,6,7] "
   ]
  },
  {
   "cell_type": "code",
   "execution_count": 2,
   "metadata": {},
   "outputs": [
    {
     "name": "stdout",
     "output_type": "stream",
     "text": [
      "[2, 4, 6]\n"
     ]
    }
   ],
   "source": [
    "\"\"\" 傳統作法\n",
    "\"\"\"\n",
    "b = []\n",
    "for item in a:\n",
    "    if item%2 == 0:\n",
    "        b.append(item)\n",
    "print(b)"
   ]
  },
  {
   "cell_type": "code",
   "execution_count": 3,
   "metadata": {},
   "outputs": [
    {
     "name": "stdout",
     "output_type": "stream",
     "text": [
      "[2, 4, 6]\n"
     ]
    }
   ],
   "source": [
    "\"\"\" 列表解析優點\n",
    "    1. 簡潔易讀\n",
    "    2. 增加處理速度\n",
    "\"\"\"\n",
    "c = [item for item in a if item%2 == 0]\n",
    "print(c)"
   ]
  },
  {
   "cell_type": "code",
   "execution_count": 4,
   "metadata": {},
   "outputs": [],
   "source": [
    "a = list(range(50000))"
   ]
  },
  {
   "cell_type": "code",
   "execution_count": 5,
   "metadata": {},
   "outputs": [
    {
     "name": "stdout",
     "output_type": "stream",
     "text": [
      "0.005983591079711914\n"
     ]
    }
   ],
   "source": [
    "import time\n",
    "start = time.time()\n",
    "b = []\n",
    "for item in a:\n",
    "    if item%2 == 0:\n",
    "        b.append(item)\n",
    "print( time.time() - start)"
   ]
  },
  {
   "cell_type": "code",
   "execution_count": 6,
   "metadata": {},
   "outputs": [
    {
     "name": "stdout",
     "output_type": "stream",
     "text": [
      "0.002992391586303711\n"
     ]
    }
   ],
   "source": [
    "start = time.time()\n",
    "b = [item for item in a if item%2 ==0]\n",
    "print( time.time() - start)"
   ]
  }
 ],
 "metadata": {
  "kernelspec": {
   "display_name": "Python 3",
   "language": "python",
   "name": "python3"
  },
  "language_info": {
   "codemirror_mode": {
    "name": "ipython",
    "version": 3
   },
   "file_extension": ".py",
   "mimetype": "text/x-python",
   "name": "python",
   "nbconvert_exporter": "python",
   "pygments_lexer": "ipython3",
   "version": "3.7.0"
  }
 },
 "nbformat": 4,
 "nbformat_minor": 2
}
