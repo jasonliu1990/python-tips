{
 "cells": [
  {
   "cell_type": "code",
   "execution_count": 1,
   "metadata": {},
   "outputs": [
    {
     "name": "stdout",
     "output_type": "stream",
     "text": [
      "xxxx DNS error\n"
     ]
    }
   ],
   "source": [
    "\"\"\" 模擬下載檔案的連線狀態\n",
    "\"\"\"\n",
    "\n",
    "class Check:\n",
    "    \n",
    "    @classmethod\n",
    "    def check_network(cls):\n",
    "        return True\n",
    "    \n",
    "    @classmethod\n",
    "    def check_download_url(cls):\n",
    "        return True\n",
    "    \n",
    "    @classmethod\n",
    "    def check_access_allowed(cls):\n",
    "        return True\n",
    "    \n",
    "    @classmethod\n",
    "    def check_dns(cls):\n",
    "        return False\n",
    "    \n",
    "\"\"\" 自定義excpetion\n",
    "\"\"\"\n",
    "\n",
    "    \n",
    "class ConnectionError(Exception):\n",
    "    pass\n",
    "\n",
    "class DownloadURLError(Exception):\n",
    "    pass\n",
    "\n",
    "class PermissionError(Exception):\n",
    "    pass\n",
    "\n",
    "class DNSError(Exception):\n",
    "    pass\n",
    "\n",
    "\n",
    "def download_file():\n",
    "    if not Check.check_network():\n",
    "        raise ConnectionError('cannot connect to network')\n",
    "    if not Check.check_download_url():\n",
    "        raise DownloadURLError('invalid URL')\n",
    "    if not Check.check_access_allowed():\n",
    "        raise PermissionError('connot access resource (permission denied)')\n",
    "    if not Check.check_dns():\n",
    "        raise DNSError('no DNS')\n",
    "\n",
    "    return ['c','o','o','l']\n",
    "\n",
    "if __name__ == \"__main__\":\n",
    "\n",
    "    \"\"\" 運用try except, 並對特定的exception做事情\n",
    "    \"\"\"\n",
    "    try:\n",
    "        print(download_file())\n",
    "    except DNSError:\n",
    "        # check configure DNS\n",
    "        print('xxxx DNS error')\n",
    "    except Exception as e:\n",
    "        print('dowload error:{}'.format(e))\n",
    "\n"
   ]
  }
 ],
 "metadata": {
  "kernelspec": {
   "display_name": "Python 3",
   "language": "python",
   "name": "python3"
  },
  "language_info": {
   "codemirror_mode": {
    "name": "ipython",
    "version": 3
   },
   "file_extension": ".py",
   "mimetype": "text/x-python",
   "name": "python",
   "nbconvert_exporter": "python",
   "pygments_lexer": "ipython3",
   "version": "3.7.0"
  }
 },
 "nbformat": 4,
 "nbformat_minor": 2
}
