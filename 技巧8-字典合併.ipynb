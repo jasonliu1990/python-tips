{
 "cells": [
  {
   "cell_type": "code",
   "execution_count": 1,
   "metadata": {},
   "outputs": [],
   "source": [
    "\"\"\" 將三個字典合併成一個字典\n",
    "\"\"\"\n",
    "d1 = {'name': 'python', 'age': 27}\n",
    "d2 = {'version': 3.7, 'platform': 'windows'}\n",
    "d3 = {'size': '59MB'}"
   ]
  },
  {
   "cell_type": "code",
   "execution_count": 2,
   "metadata": {},
   "outputs": [
    {
     "name": "stdout",
     "output_type": "stream",
     "text": [
      "{'name': 'python', 'age': 27, 'version': 3.7, 'platform': 'windows', 'size': '59MB'}\n"
     ]
    }
   ],
   "source": [
    "\"\"\" 用for循環的方式\n",
    "    但很沒有效率\n",
    "\"\"\"\n",
    "a = {}\n",
    "for key, value in d1.items():\n",
    "    a[key] = value\n",
    "for key, value in d2.items():\n",
    "    a[key] = value \n",
    "for key, value in d3.items():\n",
    "    a[key] = value\n",
    "print(a)"
   ]
  },
  {
   "cell_type": "code",
   "execution_count": 3,
   "metadata": {},
   "outputs": [
    {
     "data": {
      "text/plain": [
       "{'name': 'python',\n",
       " 'age': 27,\n",
       " 'version': 3.7,\n",
       " 'platform': 'windows',\n",
       " 'size': '59MB'}"
      ]
     },
     "execution_count": 3,
     "metadata": {},
     "output_type": "execute_result"
    }
   ],
   "source": [
    "\"\"\" 使用字典解析的方法\n",
    "    但較複雜, 少用\n",
    "\"\"\"\n",
    "{ k:v for d in [d1, d2, d3] for k, v in d.items()}"
   ]
  },
  {
   "cell_type": "code",
   "execution_count": 4,
   "metadata": {},
   "outputs": [
    {
     "name": "stdout",
     "output_type": "stream",
     "text": [
      "{'name': 'python', 'age': 27, 'version': 3.7, 'platform': 'windows', 'size': '59MB'}\n"
     ]
    }
   ],
   "source": [
    "\"\"\" 透過字典更新\n",
    "\"\"\"\n",
    "d1.update(d2)\n",
    "d1.update(d3)\n",
    "print(d1)"
   ]
  },
  {
   "cell_type": "code",
   "execution_count": 5,
   "metadata": {},
   "outputs": [
    {
     "data": {
      "text/plain": [
       "{'name': 'python',\n",
       " 'age': 27,\n",
       " 'version': 3.7,\n",
       " 'platform': 'windows',\n",
       " 'size': '59MB'}"
      ]
     },
     "execution_count": 5,
     "metadata": {},
     "output_type": "execute_result"
    }
   ],
   "source": [
    "\"\"\" python3.5以上\n",
    "    有更好的辦法\n",
    "    推薦使用\n",
    "\"\"\"\n",
    "{**d1, **d2, **d3}\n"
   ]
  }
 ],
 "metadata": {
  "kernelspec": {
   "display_name": "Python 3",
   "language": "python",
   "name": "python3"
  },
  "language_info": {
   "codemirror_mode": {
    "name": "ipython",
    "version": 3
   },
   "file_extension": ".py",
   "mimetype": "text/x-python",
   "name": "python",
   "nbconvert_exporter": "python",
   "pygments_lexer": "ipython3",
   "version": "3.7.0"
  }
 },
 "nbformat": 4,
 "nbformat_minor": 2
}
