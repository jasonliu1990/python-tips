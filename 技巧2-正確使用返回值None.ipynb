{
 "cells": [
  {
   "cell_type": "code",
   "execution_count": 1,
   "metadata": {},
   "outputs": [],
   "source": [
    "\"\"\" 定義三個 function\n",
    "    第三個 function模擬去數據庫獲取用戶列表,\n",
    "    獲取前通過測試的函數測試當前連接是否成功,\n",
    "    如果成功再去獲取用戶資訊\n",
    "\"\"\"\n",
    "# 連線成功\n",
    "def test_connection():\n",
    "    return True\n",
    "# 用戶列表\n",
    "def get():\n",
    "    return ['user1','user2']\n",
    "# 取得用戶列表前先測試連線\n",
    "def get_user_list():\n",
    "    if not test_connection():\n",
    "        return None\n",
    "    else:\n",
    "        return get()"
   ]
  },
  {
   "cell_type": "code",
   "execution_count": 2,
   "metadata": {},
   "outputs": [
    {
     "name": "stdout",
     "output_type": "stream",
     "text": [
      "user list ['user1', 'user2']\n"
     ]
    }
   ],
   "source": [
    "user_list = get_user_list()\n",
    "if not user_list:\n",
    "    print('connection error')\n",
    "else:\n",
    "    print('user list', user_list)"
   ]
  },
  {
   "cell_type": "code",
   "execution_count": 3,
   "metadata": {},
   "outputs": [
    {
     "name": "stdout",
     "output_type": "stream",
     "text": [
      "connection error\n"
     ]
    }
   ],
   "source": [
    "\"\"\" 若user_list 為空呢?\n",
    "\"\"\"\n",
    "def test_connection():\n",
    "    return True\n",
    "\n",
    "def get():\n",
    "    return []\n",
    "\n",
    "def get_user_list():\n",
    "    if not test_connection():\n",
    "        return None\n",
    "    else:\n",
    "        return get()\n",
    "    \n",
    "user_list = get_user_list()\n",
    "if not user_list:\n",
    "    print('connection error')\n",
    "else:\n",
    "    print('user list', user_list)"
   ]
  },
  {
   "cell_type": "code",
   "execution_count": 4,
   "metadata": {},
   "outputs": [
    {
     "name": "stdout",
     "output_type": "stream",
     "text": [
      "user list []\n"
     ]
    }
   ],
   "source": [
    "\"\"\" 上述 user_list為 False的原因為[]\n",
    "    並不是因為connection error\n",
    "    所以這時會出現邏輯錯誤\n",
    "    在function裡存在多種bool為False的返回值時,\n",
    "    須利用is 來明確指明\n",
    "\"\"\"\n",
    "user_list = get_user_list()\n",
    "if user_list is None:\n",
    "    print('connection error')\n",
    "else:\n",
    "    print('user list', user_list)"
   ]
  }
 ],
 "metadata": {
  "kernelspec": {
   "display_name": "Python 3",
   "language": "python",
   "name": "python3"
  },
  "language_info": {
   "codemirror_mode": {
    "name": "ipython",
    "version": 3
   },
   "file_extension": ".py",
   "mimetype": "text/x-python",
   "name": "python",
   "nbconvert_exporter": "python",
   "pygments_lexer": "ipython3",
   "version": "3.7.0"
  }
 },
 "nbformat": 4,
 "nbformat_minor": 2
}
