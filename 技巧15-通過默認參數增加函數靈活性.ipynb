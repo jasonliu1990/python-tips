{
 "cells": [
  {
   "cell_type": "code",
   "execution_count": 1,
   "metadata": {},
   "outputs": [],
   "source": [
    "class Hi:\n",
    "    \n",
    "    def say(self, name, greetings='hello'):\n",
    "        print(f'Hi {name}, {greetings}')\n",
    "\n",
    "hi = Hi()"
   ]
  },
  {
   "cell_type": "code",
   "execution_count": 2,
   "metadata": {},
   "outputs": [],
   "source": [
    "\"\"\" greetings默認值設定為hello\n",
    "    所以不指定時就使用默認值\n",
    "\"\"\"\n",
    "hi.say(name='test')"
   ]
  },
  {
   "cell_type": "code",
   "execution_count": 3,
   "metadata": {},
   "outputs": [
    {
     "name": "stdout",
     "output_type": "stream",
     "text": [
      "Hi python, hello world\n"
     ]
    }
   ],
   "source": [
    "\"\"\" 也可指定覆蓋原本的默認值\n",
    "\"\"\"\n",
    "hi.say(name='python',greetings='hello world')"
   ]
  }
 ],
 "metadata": {
  "kernelspec": {
   "display_name": "Python 3",
   "language": "python",
   "name": "python3"
  },
  "language_info": {
   "codemirror_mode": {
    "name": "ipython",
    "version": 3
   },
   "file_extension": ".py",
   "mimetype": "text/x-python",
   "name": "python",
   "nbconvert_exporter": "python",
   "pygments_lexer": "ipython3",
   "version": "3.7.0"
  }
 },
 "nbformat": 4,
 "nbformat_minor": 2
}
