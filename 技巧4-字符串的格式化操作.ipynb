{
 "cells": [
  {
   "cell_type": "code",
   "execution_count": 1,
   "metadata": {},
   "outputs": [],
   "source": [
    "name = 'Mike'\n",
    "age = 27\n",
    "\n",
    "# print string like 'I am Mike, and 27 years old.' "
   ]
  },
  {
   "cell_type": "code",
   "execution_count": 2,
   "metadata": {},
   "outputs": [
    {
     "name": "stdout",
     "output_type": "stream",
     "text": [
      "I am Mike, and 27 years old.\n"
     ]
    }
   ],
   "source": [
    "print(\"I am \" + name + \", and \" + str(age) + \" years old.\")"
   ]
  },
  {
   "cell_type": "code",
   "execution_count": 3,
   "metadata": {},
   "outputs": [
    {
     "name": "stdout",
     "output_type": "stream",
     "text": [
      "I am Mike, and 27 years old.\n",
      "I am Mike, and 27 years old.\n",
      "I am Mike, and 27 years old.\n"
     ]
    }
   ],
   "source": [
    "\"\"\" 比較好的寫法, 但對格式會有要求\n",
    "    %s 一定要 string\n",
    "    %d 一定要 int\n",
    "\"\"\"\n",
    "print('I am %s, and %d years old.'% (name,age))\n",
    "\n",
    "\"\"\" python 3 提倡下面這種寫法\n",
    "\"\"\"\n",
    "print('I am {}, and {} years old.'.format(name,age))\n",
    "\n",
    "\"\"\" python 3.6以後支援下面這種寫法\n",
    "    推薦使用\n",
    "\"\"\"\n",
    "print(f'I am {name}, and {age} years old.')"
   ]
  },
  {
   "cell_type": "code",
   "execution_count": 4,
   "metadata": {},
   "outputs": [
    {
     "name": "stdout",
     "output_type": "stream",
     "text": [
      "I am Mike, and 27 years old.\n"
     ]
    }
   ],
   "source": [
    "class Test:\n",
    "    name = 'Mike'\n",
    "    age = 27\n",
    "    \n",
    "print(f'I am {Test.name}, and {Test.age} years old.')"
   ]
  }
 ],
 "metadata": {
  "kernelspec": {
   "display_name": "Python 3",
   "language": "python",
   "name": "python3"
  },
  "language_info": {
   "codemirror_mode": {
    "name": "ipython",
    "version": 3
   },
   "file_extension": ".py",
   "mimetype": "text/x-python",
   "name": "python",
   "nbconvert_exporter": "python",
   "pygments_lexer": "ipython3",
   "version": "3.7.0"
  }
 },
 "nbformat": 4,
 "nbformat_minor": 2
}
